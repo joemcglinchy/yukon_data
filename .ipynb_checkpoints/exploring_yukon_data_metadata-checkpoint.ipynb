{
 "cells": [
  {
   "cell_type": "code",
   "execution_count": 4,
   "metadata": {
    "collapsed": true
   },
   "outputs": [],
   "source": [
    "from gbdxtools import CatalogImage, Interface\n",
    "import os, sys\n",
    "import numpy as np\n",
    "import geopandas as gpd\n",
    "from matplotlib import pyplot as plt\n",
    "from scipy.misc import bytescale\n",
    "import shapely\n",
    "from shapely.wkt import loads\n",
    "import pandas as pd\n",
    "\n",
    "%matplotlib inline"
   ]
  },
  {
   "cell_type": "code",
   "execution_count": 2,
   "metadata": {
    "collapsed": true
   },
   "outputs": [],
   "source": [
    "image_ids = ['17669959_3',      # RE 8-29-2014, alt.id 2014-08-29T223031_RE1 (SW corner)\n",
    "             '17559220_1',      # RE 8-23-2014, alt.id 2014-08-23T222157_RE5 (SW corner)\n",
    "             '17511071_3',      # RE 8-14-2014, alt.id 2014-08-14T223214_RE5 (SW corner)\n",
    "             '10504100112AB900' # GE 08-11-2014 (NE corner) \n",
    "            ] "
   ]
  },
  {
   "cell_type": "code",
   "execution_count": 5,
   "metadata": {
    "collapsed": false
   },
   "outputs": [
    {
     "data": {
      "image/png": "[encoded data removed]",
      "text/plain": [
       "<matplotlib.figure.Figure at 0x64633c8>"
      ]
     },
     "metadata": {},
     "output_type": "display_data"
    }
   ],
   "source": [
    "pts_shp = 'sample_pts/sample_pts.shp'\n",
    "pts = gpd.read_file(pts_shp)\n",
    "\n",
    "fig, ax = plt.subplots(1, figsize=(4.5,10))\n",
    "pts.plot(ax=ax,  color=['Red', 'Green', 'Blue'], alpha=1, legend=True)\n",
    "# ax.legend(loc='middle')\n",
    "plt.show()"
   ]
  },
  {
   "cell_type": "raw",
   "metadata": {},
   "source": [
    "# points 1,2 of 0,1,2 should intersect the GeoEeye scene\n",
    "ge_scene_ps = CatalogImage(image_ids[-1], acomp=True, pansharpen=True)\n",
    "ge_scene_ms = CatalogImage(image_ids[-1], acomp=True)"
   ]
  },
  {
   "cell_type": "raw",
   "metadata": {},
   "source": [
    "bbox = pts['geometry'][2].buffer(0.003).bounds\n",
    "ge_ps_aoi = ge_scene_ps.aoi(bbox=bbox)\n",
    "ge_ms_aoi = ge_scene_ms.aoi(bbox=bbox)"
   ]
  },
  {
   "cell_type": "raw",
   "metadata": {},
   "source": [
    "ge_ps_aoi.shape, ge_ms_aoi.shape\n"
   ]
  },
  {
   "cell_type": "raw",
   "metadata": {},
   "source": [
    "%matplotlib qt\n",
    "fig, ax = plt.subplots(1,2, figsize = (20,10))\n",
    "titles = ('Pansharpened', 'Multispectral')\n",
    "for i, data in enumerate([ge_ps_aoi, ge_ms_aoi]):\n",
    "    ax[i].imshow(bytescale(np.rollaxis(data[[2,1,0], :, :], 0, 3)))\n",
    "    ax[i].set_title(titles[i])\n",
    "    #data.plot()\n",
    "    \n",
    "plt.show()"
   ]
  },
  {
   "cell_type": "code",
   "execution_count": 6,
   "metadata": {
    "collapsed": true
   },
   "outputs": [],
   "source": [
    "gbdx = Interface()"
   ]
  },
  {
   "cell_type": "code",
   "execution_count": null,
   "metadata": {
    "collapsed": true
   },
   "outputs": [],
   "source": []
  },
  {
   "cell_type": "code",
   "execution_count": 34,
   "metadata": {
    "collapsed": false,
    "scrolled": false
   },
   "outputs": [
    {
     "name": "stdout",
     "output_type": "stream",
     "text": [
      "('searching for point ', 0)\n",
      "(u'103001007F793000', u'2018-05-18', u'Acquisition', u'WORLDVIEW02')\n",
      "(u'103001007DD65000', u'2018-05-15', u'Acquisition', u'WORLDVIEW02')\n",
      "(u'1040010018343C00', u'2016-02-07', u'Acquisition', u'WORLDVIEW03_VNIR')\n",
      "(u'10400100185B2400', u'2016-02-07', u'Acquisition', u'WORLDVIEW03_VNIR')\n",
      "(u'103001004BAE5E00', u'2015-10-29', u'Acquisition', u'WORLDVIEW02')\n",
      "(u'103001004C882F00', u'2015-10-29', u'Acquisition', u'WORLDVIEW02')\n",
      "(u'1030010049962800', u'2015-10-17', u'Acquisition', u'WORLDVIEW02')\n",
      "(u'103001004A692200', u'2015-10-25', u'Acquisition', u'WORLDVIEW02')\n",
      "(u'10300100520CFE00', u'2016-02-14', u'Acquisition', u'WORLDVIEW02')\n",
      "(u'10300100539AA800', u'2016-02-14', u'Acquisition', u'WORLDVIEW02')\n",
      "(u'103001005298CB00', u'2016-02-08', u'Acquisition', u'WORLDVIEW02')\n",
      "(u'103001004A074200', u'2015-10-17', u'Acquisition', u'WORLDVIEW02')\n",
      "(u'10300100052D5300', u'2010-05-24', u'WV02', u'WORLDVIEW02')\n",
      "(u'1030010006C8A500', u'2010-08-12', u'Acquisition', u'WORLDVIEW02')\n",
      "(u'1030010012785500', u'2012-03-21', u'Acquisition', u'WORLDVIEW02')\n",
      "15\n",
      "\n",
      "('searching for point ', 1)\n",
      "(u'104001003CAA1400', u'2018-05-24', u'IDAHOImage', u'WORLDVIEW03_VNIR')\n",
      "(u'103001007D0A7D00', u'2018-05-22', u'IDAHOImage', u'WORLDVIEW02')\n",
      "(u'103001007F46C300', u'2018-05-25', u'Acquisition', u'WORLDVIEW02')\n",
      "(u'1040010034CFD700', u'2017-10-10', u'Acquisition', u'WORLDVIEW03_VNIR')\n",
      "(u'104001003218D600', u'2017-10-17', u'Acquisition', u'WORLDVIEW03_VNIR')\n",
      "(u'10400100346C7200', u'2017-10-10', u'Acquisition', u'WORLDVIEW03_VNIR')\n",
      "(u'104001001324C900', u'2015-11-18', u'Acquisition', u'WORLDVIEW03_VNIR')\n",
      "(u'10400100145F2100', u'2015-11-16', u'Acquisition', u'WORLDVIEW03_VNIR')\n",
      "(u'104001001354BC00', u'2015-11-18', u'Acquisition', u'WORLDVIEW03_VNIR')\n",
      "(u'10400100147B0D00', u'2015-11-16', u'Acquisition', u'WORLDVIEW03_VNIR')\n",
      "(u'1030010042B50E00', u'2015-05-24', u'Acquisition', u'WORLDVIEW02')\n",
      "(u'1030010072853700', u'2017-10-26', u'Acquisition', u'WORLDVIEW02')\n",
      "(u'10300100458A5200', u'2015-07-17', u'Acquisition', u'WORLDVIEW02')\n",
      "(u'1030010043B7B200', u'2015-05-24', u'Acquisition', u'WORLDVIEW02')\n",
      "(u'1030010074BB8A00', u'2017-10-26', u'Acquisition', u'WORLDVIEW02')\n",
      "(u'1030010004484300', u'2010-05-11', u'Acquisition', u'WORLDVIEW02')\n",
      "(u'10300100056EE100', u'2010-05-22', u'Acquisition', u'WORLDVIEW02')\n",
      "(u'103001000A5B4B00', u'2011-05-08', u'WV02', u'WORLDVIEW02')\n",
      "(u'103001000A125C00', u'2011-04-22', u'Acquisition', u'WORLDVIEW02')\n",
      "(u'103001000A786E00', u'2011-04-30', u'Acquisition', u'WORLDVIEW02')\n",
      "(u'103001000A11A600', u'2011-04-22', u'Acquisition', u'WORLDVIEW02')\n",
      "(u'103001000A7B3D00', u'2011-04-27', u'Acquisition', u'WORLDVIEW02')\n",
      "(u'103001001B089200', u'2012-08-09', u'Acquisition', u'WORLDVIEW02')\n",
      "(u'103001001AA01200', u'2012-08-08', u'Acquisition', u'WORLDVIEW02')\n",
      "24\n",
      "\n",
      "('searching for point ', 2)\n",
      "(u'104001000230AB00', u'2014-10-09', u'Acquisition', u'WORLDVIEW03_VNIR')\n",
      "(u'103001007885A400', u'2018-02-20', u'Acquisition', u'WORLDVIEW02')\n",
      "(u'1030010079A55E00', u'2018-02-20', u'Acquisition', u'WORLDVIEW02')\n",
      "(u'103001007D0A7D00', u'2018-05-22', u'IDAHOImage', u'WORLDVIEW02')\n",
      "(u'103001007F46C300', u'2018-05-25', u'Acquisition', u'WORLDVIEW02')\n",
      "(u'1040010034CFD700', u'2017-10-10', u'Acquisition', u'WORLDVIEW03_VNIR')\n",
      "(u'1040010034272300', u'2017-10-16', u'Acquisition', u'WORLDVIEW03_VNIR')\n",
      "(u'104001003218D600', u'2017-10-17', u'Acquisition', u'WORLDVIEW03_VNIR')\n",
      "(u'1040010035C30C00', u'2017-10-17', u'Acquisition', u'WORLDVIEW03_VNIR')\n",
      "(u'10400100346C7200', u'2017-10-10', u'Acquisition', u'WORLDVIEW03_VNIR')\n",
      "(u'104001001324C900', u'2015-11-18', u'Acquisition', u'WORLDVIEW03_VNIR')\n",
      "(u'104001001354BC00', u'2015-11-18', u'Acquisition', u'WORLDVIEW03_VNIR')\n",
      "(u'10300100606A7900', u'2016-11-17', u'Acquisition', u'WORLDVIEW02')\n",
      "(u'103001004E44B200', u'2015-11-17', u'Acquisition', u'WORLDVIEW02')\n",
      "(u'10300100731B9400', u'2017-10-15', u'Acquisition', u'WORLDVIEW02')\n",
      "(u'1030010072853700', u'2017-10-26', u'Acquisition', u'WORLDVIEW02')\n",
      "(u'1030010072755A00', u'2017-10-15', u'Acquisition', u'WORLDVIEW02')\n",
      "(u'103001004BD4C000', u'2015-11-17', u'Acquisition', u'WORLDVIEW02')\n",
      "(u'1030010074BB8A00', u'2017-10-26', u'Acquisition', u'WORLDVIEW02')\n",
      "(u'1030010004484300', u'2010-05-11', u'Acquisition', u'WORLDVIEW02')\n",
      "(u'103001000A125C00', u'2011-04-22', u'Acquisition', u'WORLDVIEW02')\n",
      "(u'103001001AA01200', u'2012-08-08', u'Acquisition', u'WORLDVIEW02')\n",
      "(u'1030010019B8C900', u'2012-06-17', u'Acquisition', u'WORLDVIEW02')\n",
      "(u'103001001AB5F300', u'2012-08-09', u'Acquisition', u'WORLDVIEW02')\n",
      "(u'103001001B089200', u'2012-08-09', u'Acquisition', u'WORLDVIEW02')\n",
      "25\n",
      "\n"
     ]
    }
   ],
   "source": [
    "# search for other image\n",
    "from shapely.geometry import box\n",
    "\n",
    "# query = 'item_type:QB OR item_type:GE01'\n",
    "# query = 'item_type:GE01'\n",
    "# query = 'item_type:QB02'\n",
    "query = 'item_type:WV03_VNIR OR item_type:WV02 OR item_type:QB02 OR item_type:GE01'\n",
    "query = 'item_type:WV03_VNIR OR item_type:WV02'\n",
    "\n",
    "for i,pt in enumerate(pts['geometry']):\n",
    "    \n",
    "    print('searching for point ', i)\n",
    "    this_bbox = pt.buffer(0.003).bounds\n",
    "    aoi = box(*this_bbox).wkt\n",
    "    recs = gbdx.vectors.query(aoi, query, count=100)\n",
    "    #print(len(recs))\n",
    "\n",
    "    cat_ids=[]\n",
    "    for r in recs:\n",
    "        \n",
    "        props = r['properties']\n",
    "        if not props['attributes']['catalogID'] in cat_ids:\n",
    "            cat_ids.append(props['attributes']['catalogID'])\n",
    "            print(props['attributes']['catalogID'], \n",
    "                  props['item_date'][0:10], \n",
    "                  props['item_type'][1], \n",
    "                  props['attributes']['platformName'])\n",
    "\n",
    "    print(len(cat_ids))\n",
    "    print('')           \n"
   ]
  },
  {
   "cell_type": "code",
   "execution_count": 13,
   "metadata": {
    "collapsed": false,
    "scrolled": false
   },
   "outputs": [
    {
     "data": {
      "text/plain": [
       "{u'geometry': {u'coordinates': [[[[-146.3640399, 67.01344043],\n",
       "     [-145.9846116, 67.01622184],\n",
       "     [-145.9843336, 66.98513496],\n",
       "     [-145.9841137, 66.95401079],\n",
       "     [-145.9838601, 66.92285867],\n",
       "     [-145.9836438, 66.8916689],\n",
       "     [-145.9833855, 66.86045132],\n",
       "     [-145.9831533, 66.82920392],\n",
       "     [-145.9829698, 66.79791546],\n",
       "     [-145.9827534, 66.76659735],\n",
       "     [-145.9824835, 66.73524252],\n",
       "     [-145.9822393, 66.70384184],\n",
       "     [-145.9819612, 66.67240501],\n",
       "     [-145.9816969, 66.64093814],\n",
       "     [-145.981452, 66.60944866],\n",
       "     [-145.9812181, 66.57793185],\n",
       "     [-145.9810308, 66.5463788],\n",
       "     [-145.9808374, 66.51479524],\n",
       "     [-145.9805877, 66.48317553],\n",
       "     [-145.9804095, 66.45151499],\n",
       "     [-145.9801301, 66.41982338],\n",
       "     [-145.9799319, 66.38809416],\n",
       "     [-145.9797671, 66.35633407],\n",
       "     [-145.9795685, 66.32452145],\n",
       "     [-145.9792843, 66.29268361],\n",
       "     [-145.9790216, 66.26080751],\n",
       "     [-145.9789028, 66.22889178],\n",
       "     [-145.9787245, 66.19694205],\n",
       "     [-145.9790275, 66.164953],\n",
       "     [-145.9793817, 66.13292691],\n",
       "     [-145.9792602, 66.10086857],\n",
       "     [-145.978968, 66.06877162],\n",
       "     [-145.9788456, 66.03663419],\n",
       "     [-145.9790478, 66.00446952],\n",
       "     [-145.9787946, 65.9722737],\n",
       "     [-145.9790556, 65.96550928],\n",
       "     [-146.3716294, 65.96388145],\n",
       "     [-146.3720285, 65.97083473],\n",
       "     [-146.371246, 66.00298231],\n",
       "     [-146.37126, 66.03508024],\n",
       "     [-146.370904, 66.06716254],\n",
       "     [-146.3706029, 66.09920774],\n",
       "     [-146.370124, 66.13121601],\n",
       "     [-146.3693148, 66.1631922],\n",
       "     [-146.3684818, 66.19513391],\n",
       "     [-146.3682004, 66.22703429],\n",
       "     [-146.3679258, 66.25890068],\n",
       "     [-146.3676648, 66.29073084],\n",
       "     [-146.3674773, 66.32252306],\n",
       "     [-146.3672573, 66.3542897],\n",
       "     [-146.3670619, 66.38600425999999],\n",
       "     [-146.3668628, 66.41768949],\n",
       "     [-146.3666632, 66.44934024],\n",
       "     [-146.3664445, 66.48095914],\n",
       "     [-146.3662349, 66.51253994],\n",
       "     [-146.366039, 66.54408375],\n",
       "     [-146.3658359, 66.57559799],\n",
       "     [-146.3656571, 66.6070779],\n",
       "     [-146.3655111, 66.63853059],\n",
       "     [-146.3653853, 66.66996134],\n",
       "     [-146.3652435, 66.70136394],\n",
       "     [-146.3651263, 66.73272995],\n",
       "     [-146.3649994, 66.76405258],\n",
       "     [-146.3648473, 66.79533836],\n",
       "     [-146.3646515, 66.82659593],\n",
       "     [-146.3645177, 66.85781305],\n",
       "     [-146.3644003, 66.88900103],\n",
       "     [-146.364264, 66.92016155],\n",
       "     [-146.3641043, 66.95128796],\n",
       "     [-146.3639985, 66.98238392],\n",
       "     [-146.3640399, 67.01344043]]]],\n",
       "  u'type': u'MultiPolygon'},\n",
       " u'properties': {u'attributes': {u'browseURL': u'https://api.discover.digitalglobe.com/show?id=104001000230AB00&f=jpeg',\n",
       "   u'catalogID': u'104001000230AB00',\n",
       "   u'cloudCover_int': 0,\n",
       "   u'imageBands': u'PAN_MS1_MS2',\n",
       "   u'multiResolution_dbl': 1.52014255523682,\n",
       "   u'multiResolution_end_dbl': 1.56205439567566,\n",
       "   u'multiResolution_max_dbl': 1.56205439567566,\n",
       "   u'multiResolution_min_dbl': 1.47188866138458,\n",
       "   u'multiResolution_start_dbl': 1.47188866138458,\n",
       "   u'offNadirAngle_dbl': 26.6031761169434,\n",
       "   u'offNadirAngle_end_dbl': 28.3224811553955,\n",
       "   u'offNadirAngle_max_dbl': 28.3224811553955,\n",
       "   u'offNadirAngle_min_dbl': 24.4890613555908,\n",
       "   u'offNadirAngle_start_dbl': 24.4890613555908,\n",
       "   u'panResolution_dbl': 0.379967927932739,\n",
       "   u'panResolution_end_dbl': 0.390439361333847,\n",
       "   u'panResolution_max_dbl': 0.390439361333847,\n",
       "   u'panResolution_min_dbl': 0.367911964654922,\n",
       "   u'panResolution_start_dbl': 0.367911964654922,\n",
       "   u'platformName': u'WORLDVIEW03_VNIR',\n",
       "   u'scanDirection': u'Forward',\n",
       "   u'sensorPlatformName': u'WORLDVIEW03_VNIR',\n",
       "   u'stereoPair': None,\n",
       "   u'sunAzimuth_dbl': 183.281173706055,\n",
       "   u'sunAzimuth_max_dbl': 183.321853637695,\n",
       "   u'sunAzimuth_min_dbl': 183.230880737305,\n",
       "   u'sunElevation_dbl': 17.1703395843506,\n",
       "   u'sunElevation_max_dbl': 17.6589107513428,\n",
       "   u'sunElevation_min_dbl': 16.5862159729004,\n",
       "   u'targetAzimuth_dbl': 80.3246688842773,\n",
       "   u'targetAzimuth_end_dbl': 81.4641036987305,\n",
       "   u'targetAzimuth_max_dbl': 81.4641036987305,\n",
       "   u'targetAzimuth_min_dbl': 78.9030532836914,\n",
       "   u'targetAzimuth_start_dbl': 78.9030532836914,\n",
       "   u'vendor': u'DigitalGlobe'},\n",
       "  u'format': None,\n",
       "  u'id': u'104001000230AB00',\n",
       "  u'ingest_attributes': {u'_rest_url': u'https://vector.geobigdata.io/insight-vector/api/vectors/gbdx-alpha-catalog-v2-%257Bitem_date%253Ayyyy%257D',\n",
       "   u'_rest_user': u'acquisition-gbdx-support@digitalglobe.com'},\n",
       "  u'ingest_date': u'2017-04-11T20:08:43.129Z',\n",
       "  u'ingest_source': u'GBDX_INGEST_ALPHA',\n",
       "  u'item_date': u'2014-10-09T21:44:19.778Z',\n",
       "  u'item_type': [u'GBDXCatalogRecord',\n",
       "   u'Acquisition',\n",
       "   u'DigitalGlobeAcquisition',\n",
       "   u'WV03_VNIR'],\n",
       "  u'name': None,\n",
       "  u'original_crs': u'EPSG:4326',\n",
       "  u'source': None,\n",
       "  u'text': u''},\n",
       " u'type': u'Feature'}"
      ]
     },
     "execution_count": 13,
     "metadata": {},
     "output_type": "execute_result"
    }
   ],
   "source": [
    "recs[0]"
   ]
  },
  {
   "cell_type": "code",
   "execution_count": 6,
   "metadata": {
    "collapsed": true
   },
   "outputs": [],
   "source": [
    "poly = loads(aoi)\n",
    "df = pd.DataFrame({'geometry': poly}, index=[0])\n",
    "\n",
    "              \n"
   ]
  },
  {
   "cell_type": "code",
   "execution_count": 7,
   "metadata": {
    "collapsed": true
   },
   "outputs": [],
   "source": [
    "gdf = gpd.GeoDataFrame(df)\n",
    "gdf.crs = {'init': 'epsg:4326', 'no_defs': True}\n",
    "temp = gdf.to_crs(epsg=32607)"
   ]
  },
  {
   "cell_type": "code",
   "execution_count": 8,
   "metadata": {
    "collapsed": false
   },
   "outputs": [
    {
     "data": {
      "text/plain": [
       "(178695.59846898908,\n",
       " (265235.5060103524, 7386862.270716549, 265558.08320051746, 7387551.704168542))"
      ]
     },
     "execution_count": 8,
     "metadata": {},
     "output_type": "execute_result"
    }
   ],
   "source": [
    "temp['geometry'][0].area,temp['geometry'][0].bounds"
   ]
  },
  {
   "cell_type": "code",
   "execution_count": 9,
   "metadata": {
    "collapsed": false
   },
   "outputs": [
    {
     "data": {
      "text/plain": [
       "(689.4334519933909, 322.5771901650587)"
      ]
     },
     "execution_count": 9,
     "metadata": {},
     "output_type": "execute_result"
    }
   ],
   "source": [
    "bnds = temp['geometry'][0].bounds\n",
    "bnds[3] - bnds[1], bnds[2] - bnds[0]"
   ]
  },
  {
   "cell_type": "markdown",
   "metadata": {},
   "source": [
    "## search the catalog and view as data frames"
   ]
  },
  {
   "cell_type": "code",
   "execution_count": 36,
   "metadata": {
    "collapsed": false,
    "scrolled": true
   },
   "outputs": [
    {
     "name": "stdout",
     "output_type": "stream",
     "text": [
      "('searching for point ', 0)\n",
      "46\n",
      "('searching for point ', 1)\n",
      "80\n",
      "('searching for point ', 2)\n",
      "52\n"
     ]
    }
   ],
   "source": [
    "def flatten_dict(d):\n",
    "    def expand(key, value):\n",
    "        if isinstance(value, dict):\n",
    "            return [ (key + '.' + k, v) for k, v in flatten_dict(value).items() ]\n",
    "        else:\n",
    "            return [ (key, value) ]\n",
    "\n",
    "    items = [ item for k, v in d.items() for item in expand(k, v) ]\n",
    "\n",
    "    return dict(items)\n",
    "\n",
    "def flatten_dict_dg(d):\n",
    "    def expand(key, value):\n",
    "        if isinstance(value, dict):\n",
    "            return [ (key + '.' + k, v) for k, v in flatten_dict(value).items() ]\n",
    "        else:\n",
    "            return [ (key, value) ]\n",
    "\n",
    "    items = [ item for k, v in d.items() for item in expand(k, v) ]\n",
    "    d = dict(items)\n",
    "    d['properties.item_type'] = d['properties.item_type'][-1]\n",
    "    \n",
    "    return d\n",
    "\n",
    "\n",
    "# search for other image\n",
    "from shapely.geometry import box\n",
    "\n",
    "# query = 'item_type:QB OR item_type:GE01'\n",
    "# query = 'item_type:GE01'\n",
    "# query = 'item_type:QB02'\n",
    "query = 'item_type:WV03_VNIR OR item_type:WV02 OR item_type:QB02 OR item_type:GE01'\n",
    "\n",
    "pt_dfs = []\n",
    "for i,pt in enumerate(pts['geometry']):\n",
    "    \n",
    "    print('searching for point ', i)\n",
    "    this_bbox = pt.buffer(0.003).bounds\n",
    "    aoi = box(*this_bbox).wkt\n",
    "    recs = gbdx.vectors.query(aoi, query, count=100)\n",
    "    print(len(recs))\n",
    "    pt_dfs.append(pd.DataFrame([flatten_dict_dg(r) for r in recs]))\n"
   ]
  },
  {
   "cell_type": "code",
   "execution_count": 37,
   "metadata": {
    "collapsed": false
   },
   "outputs": [
    {
     "name": "stdout",
     "output_type": "stream",
     "text": [
      "<pandas.core.groupby.DataFrameGroupBy object at 0x0000000018548550>\n",
      "1BProduct\n",
      "GE01\n",
      "QB02\n",
      "WV02\n",
      "WV03_VNIR\n"
     ]
    }
   ],
   "source": [
    "item_type = 'properties.item_type'\n",
    "pt0_df = pt_dfs[0]\n",
    "pt0_sensors = pt0_df.groupby(item_type)\n",
    "\n",
    "print(pt0_sensors)\n",
    "for name, group in pt0_sensors:\n",
    "    print(name)"
   ]
  },
  {
   "cell_type": "code",
   "execution_count": 41,
   "metadata": {
    "collapsed": false
   },
   "outputs": [],
   "source": [
    "ls_df = list(pt0_sensors)\n",
    "df_1B = ls_df[0][1]\n",
    "df_qb = ls_df[1][1]\n",
    "df_wv02 = ls_df[2][1]\n",
    "df_wv03 = ls_df[3][1]"
   ]
  },
  {
   "cell_type": "code",
   "execution_count": 43,
   "metadata": {
    "collapsed": false
   },
   "outputs": [
    {
     "data": {
      "text/plain": [
       "7     16\n",
       "8     54\n",
       "10     3\n",
       "12     3\n",
       "24    44\n",
       "25    99\n",
       "26    99\n",
       "27     8\n",
       "28    99\n",
       "29    52\n",
       "30    99\n",
       "31    74\n",
       "34     0\n",
       "35     0\n",
       "36     2\n",
       "37    90\n",
       "38     0\n",
       "Name: properties.attributes.cloudCover_int, dtype: int64"
      ]
     },
     "execution_count": 43,
     "metadata": {},
     "output_type": "execute_result"
    }
   ],
   "source": [
    "df_wv03['properties.attributes.cloudCover_int']"
   ]
  },
  {
   "cell_type": "code",
   "execution_count": 65,
   "metadata": {
    "collapsed": false
   },
   "outputs": [],
   "source": [
    "# get ids if cloud cover is less than some number\n",
    "cc_thresh=20\n",
    "cat_ids_to_order = []\n",
    "for data_fr in (df_qb, df_wv02, df_wv03):\n",
    "    \n",
    "    temp_df = data_fr.loc[data_fr['properties.attributes.cloudCover_int'] < cc_thresh]\n",
    "    cat_ids_to_order += list(temp_df['properties.attributes.catalogID'].values)"
   ]
  },
  {
   "cell_type": "code",
   "execution_count": 66,
   "metadata": {
    "collapsed": false
   },
   "outputs": [
    {
     "data": {
      "text/plain": [
       "[u'1050410002E87300',\n",
       " u'1050410002E87300',\n",
       " u'1050410002E0EF00',\n",
       " u'1050410002E87300',\n",
       " u'1050410003048200',\n",
       " u'101001000F9D4A00',\n",
       " u'101001000F9D4A00',\n",
       " u'101001000F9D4A00',\n",
       " u'101001000F9D4A00',\n",
       " u'101001000840ED00',\n",
       " u'10100100070E1600',\n",
       " u'1010010005A5D600',\n",
       " u'1010010005AC8A00',\n",
       " u'103001007F793000',\n",
       " u'103001007F793000',\n",
       " u'103001007F793000',\n",
       " u'103001005298CB00',\n",
       " u'10300100052D5300',\n",
       " u'10300100052D5300',\n",
       " u'10300100052D5300',\n",
       " u'1030010012785500']"
      ]
     },
     "execution_count": 66,
     "metadata": {},
     "output_type": "execute_result"
    }
   ],
   "source": [
    "cat_ids_to_order"
   ]
  },
  {
   "cell_type": "code",
   "execution_count": 67,
   "metadata": {
    "collapsed": false
   },
   "outputs": [],
   "source": [
    "order_flag = True\n",
    "if order_flag:\n",
    "    bad_id_wfs = []\n",
    "    gbdx = Interface()\n",
    "    for bid in cat_ids_to_order:\n",
    "        tasks = []\n",
    "\n",
    "        # Pre-Image Auto ordering task parameters\n",
    "        pre_order = gbdx.Task(\"Auto_Ordering\")\n",
    "        pre_order.inputs.cat_id = bid\n",
    "        pre_order.impersonation_allowed = True\n",
    "        pre_order.persist = True\n",
    "        pre_order.timeout = 36000\n",
    "        #uc_task.inputs.pre_image_dir = pre_order.outputs.s3_location.value\n",
    "        tasks += [pre_order]\n",
    "\n",
    "        # Set up workflow save data\n",
    "        workflow = gbdx.Workflow(tasks)\n",
    "        workflow.savedata(pre_order.outputs.s3_location, location='mcglinchy_yukon_data/{}'.format(bid))\n",
    "\n",
    "        # Execute workflow\n",
    "        workflow.execute()\n",
    "\n",
    "        # append to list\n",
    "        bad_id_wfs.append(workflow)"
   ]
  },
  {
   "cell_type": "code",
   "execution_count": 70,
   "metadata": {
    "collapsed": false
   },
   "outputs": [
    {
     "name": "stdout",
     "output_type": "stream",
     "text": [
      "workflow id 4944132640958835518, 1 of 21\n",
      "status: {u'state': u'complete', u'event': u'succeeded'}\n",
      "\n",
      "workflow id 4944132643153150290, 2 of 21\n",
      "status: {u'state': u'complete', u'event': u'succeeded'}\n",
      "\n",
      "workflow id 4944132645391142718, 3 of 21\n",
      "status: {u'state': u'complete', u'event': u'succeeded'}\n",
      "\n",
      "workflow id 4944132647571587963, 4 of 21\n",
      "status: {u'state': u'complete', u'event': u'succeeded'}\n",
      "\n",
      "workflow id 4944132649755404023, 5 of 21\n",
      "status: {u'state': u'pending', u'event': u'waiting'}\n",
      "\n",
      "workflow id 4944132652428630995, 6 of 21\n",
      "status: {u'state': u'complete', u'event': u'succeeded'}\n",
      "\n",
      "workflow id 4944132654638746147, 7 of 21\n",
      "status: {u'state': u'complete', u'event': u'succeeded'}\n",
      "\n",
      "workflow id 4944132659220023547, 8 of 21\n",
      "status: {u'state': u'complete', u'event': u'succeeded'}\n",
      "\n",
      "workflow id 4944132661757720788, 9 of 21\n",
      "status: {u'state': u'complete', u'event': u'succeeded'}\n",
      "\n",
      "workflow id 4944132664132341542, 10 of 21\n",
      "status: {u'state': u'pending', u'event': u'waiting'}\n",
      "\n",
      "workflow id 4944132666442756854, 11 of 21\n",
      "status: {u'state': u'pending', u'event': u'waiting'}\n",
      "\n",
      "workflow id 4944132668685265682, 12 of 21\n",
      "status: {u'state': u'pending', u'event': u'waiting'}\n",
      "\n",
      "workflow id 4944132670854004156, 13 of 21\n",
      "status: {u'state': u'pending', u'event': u'waiting'}\n",
      "\n",
      "workflow id 4944132673139652414, 14 of 21\n",
      "status: {u'state': u'complete', u'event': u'succeeded'}\n",
      "\n",
      "workflow id 4944132675369917247, 15 of 21\n",
      "status: {u'state': u'complete', u'event': u'succeeded'}\n",
      "\n",
      "workflow id 4944132677637773389, 16 of 21\n",
      "status: {u'state': u'complete', u'event': u'succeeded'}\n",
      "\n",
      "workflow id 4944132679803791328, 17 of 21\n",
      "status: {u'state': u'complete', u'event': u'succeeded'}\n",
      "\n",
      "workflow id 4944132681986138246, 18 of 21\n",
      "status: {u'state': u'complete', u'event': u'succeeded'}\n",
      "\n",
      "workflow id 4944132684185562588, 19 of 21\n",
      "status: {u'state': u'complete', u'event': u'succeeded'}\n",
      "\n",
      "workflow id 4944132686322935873, 20 of 21\n",
      "status: {u'state': u'complete', u'event': u'succeeded'}\n",
      "\n",
      "workflow id 4944132688515610693, 21 of 21\n",
      "status: {u'state': u'complete', u'event': u'succeeded'}\n",
      "\n"
     ]
    }
   ],
   "source": [
    "for i,wf in enumerate(bad_id_wfs):\n",
    "    print('workflow id {}, {} of {}'.format(wf.id, i+1, len(bad_id_wfs)))\n",
    "    print('status: {}'.format(wf.status))\n",
    "    print('')\n",
    "           "
   ]
  },
  {
   "cell_type": "code",
   "execution_count": null,
   "metadata": {
    "collapsed": true
   },
   "outputs": [],
   "source": []
  }
 ],
 "metadata": {
  "kernelspec": {
   "display_name": "Python [joemcg_rootclone]",
   "language": "python",
   "name": "Python [joemcg_rootclone]"
  },
  "language_info": {
   "codemirror_mode": {
    "name": "ipython",
    "version": 2
   },
   "file_extension": ".py",
   "mimetype": "text/x-python",
   "name": "python",
   "nbconvert_exporter": "python",
   "pygments_lexer": "ipython2",
   "version": "2.7.12"
  }
 },
 "nbformat": 4,
 "nbformat_minor": 2
}
