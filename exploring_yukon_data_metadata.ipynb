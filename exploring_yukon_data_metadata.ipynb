{
 "cells": [
  {
   "cell_type": "code",
   "execution_count": 1,
   "metadata": {},
   "outputs": [],
   "source": [
    "from gbdxtools import CatalogImage, Interface\n",
    "import os, sys\n",
    "import numpy as np\n",
    "import geopandas as gpd\n",
    "from matplotlib import pyplot as plt\n",
    "from scipy.misc import bytescale\n",
    "import shapely\n",
    "from shapely.wkt import loads\n",
    "import pandas as pd\n",
    "\n"
   ]
  },
  {
   "cell_type": "code",
   "execution_count": 2,
   "metadata": {},
   "outputs": [],
   "source": [
    "image_ids = ['17669959_3',      # RE 8-29-2014, alt.id 2014-08-29T223031_RE1 (SW corner)\n",
    "             '17559220_1',      # RE 8-23-2014, alt.id 2014-08-23T222157_RE5 (SW corner)\n",
    "             '17511071_3',      # RE 8-14-2014, alt.id 2014-08-14T223214_RE5 (SW corner)\n",
    "             '10504100112AB900' # GE 08-11-2014 (NE corner) \n",
    "            ] "
   ]
  },
  {
   "cell_type": "code",
   "execution_count": 3,
   "metadata": {},
   "outputs": [
    {
     "data": {
      "text/plain": [
       "<matplotlib.axes._subplots.AxesSubplot at 0x2278ab40668>"
      ]
     },
     "execution_count": 3,
     "metadata": {},
     "output_type": "execute_result"
    },
    {
     "data": {
      "image/png": "[encoded data removed]",
      "text/plain": [
       "<matplotlib.figure.Figure at 0x2278ab26eb8>"
      ]
     },
     "metadata": {},
     "output_type": "display_data"
    }
   ],
   "source": [
    "pts_shp = 'sample_pts/sample_pts.shp'\n",
    "pts = gpd.read_file(pts_shp)\n",
    "\n",
    "fig, ax = plt.subplots(1, figsize=(4.5,10))\n",
    "pts.plot(ax=ax,  color=['Red', 'Green', 'Blue'], alpha=1, legend=True)\n",
    "# ax.legend(loc='middle')"
   ]
  },
  {
   "cell_type": "raw",
   "metadata": {},
   "source": [
    "# points 1,2 of 0,1,2 should intersect the GeoEeye scene\n",
    "ge_scene_ps = CatalogImage(image_ids[-1], acomp=True, pansharpen=True)\n",
    "ge_scene_ms = CatalogImage(image_ids[-1], acomp=True)"
   ]
  },
  {
   "cell_type": "raw",
   "metadata": {},
   "source": [
    "bbox = pts['geometry'][2].buffer(0.003).bounds\n",
    "ge_ps_aoi = ge_scene_ps.aoi(bbox=bbox)\n",
    "ge_ms_aoi = ge_scene_ms.aoi(bbox=bbox)"
   ]
  },
  {
   "cell_type": "raw",
   "metadata": {},
   "source": [
    "ge_ps_aoi.shape, ge_ms_aoi.shape\n"
   ]
  },
  {
   "cell_type": "raw",
   "metadata": {},
   "source": [
    "%matplotlib qt\n",
    "fig, ax = plt.subplots(1,2, figsize = (20,10))\n",
    "titles = ('Pansharpened', 'Multispectral')\n",
    "for i, data in enumerate([ge_ps_aoi, ge_ms_aoi]):\n",
    "    ax[i].imshow(bytescale(np.rollaxis(data[[2,1,0], :, :], 0, 3)))\n",
    "    ax[i].set_title(titles[i])\n",
    "    #data.plot()\n",
    "    \n",
    "plt.show()"
   ]
  },
  {
   "cell_type": "code",
   "execution_count": 4,
   "metadata": {},
   "outputs": [],
   "source": [
    "gbdx = Interface()"
   ]
  },
  {
   "cell_type": "code",
   "execution_count": null,
   "metadata": {},
   "outputs": [],
   "source": []
  },
  {
   "cell_type": "code",
   "execution_count": 5,
   "metadata": {
    "scrolled": false
   },
   "outputs": [
    {
     "name": "stdout",
     "output_type": "stream",
     "text": [
      "searching for point  0\n",
      "103001007F793000 2018-05-18 Acquisition WORLDVIEW02\n",
      "103001007DD65000 2018-05-15 Acquisition WORLDVIEW02\n",
      "1040010018343C00 2016-02-07 Acquisition WORLDVIEW03_VNIR\n",
      "10400100185B2400 2016-02-07 Acquisition WORLDVIEW03_VNIR\n",
      "103001004BAE5E00 2015-10-29 Acquisition WORLDVIEW02\n",
      "103001004C882F00 2015-10-29 Acquisition WORLDVIEW02\n",
      "1030010049962800 2015-10-17 Acquisition WORLDVIEW02\n",
      "103001004A692200 2015-10-25 Acquisition WORLDVIEW02\n",
      "10300100520CFE00 2016-02-14 Acquisition WORLDVIEW02\n",
      "10300100539AA800 2016-02-14 Acquisition WORLDVIEW02\n",
      "103001005298CB00 2016-02-08 Acquisition WORLDVIEW02\n",
      "103001004A074200 2015-10-17 Acquisition WORLDVIEW02\n",
      "10300100052D5300 2010-05-24 WV02 WORLDVIEW02\n",
      "1030010006C8A500 2010-08-12 Acquisition WORLDVIEW02\n",
      "1030010012785500 2012-03-21 Acquisition WORLDVIEW02\n",
      "15\n",
      "\n",
      "searching for point  1\n",
      "104001003CAA1400 2018-05-24 IDAHOImage WORLDVIEW03_VNIR\n",
      "103001007D0A7D00 2018-05-22 IDAHOImage WORLDVIEW02\n",
      "103001007F46C300 2018-05-25 Acquisition WORLDVIEW02\n",
      "1040010034CFD700 2017-10-10 Acquisition WORLDVIEW03_VNIR\n",
      "104001003218D600 2017-10-17 Acquisition WORLDVIEW03_VNIR\n",
      "10400100346C7200 2017-10-10 Acquisition WORLDVIEW03_VNIR\n",
      "10400100145F2100 2015-11-16 Acquisition WORLDVIEW03_VNIR\n",
      "104001001324C900 2015-11-18 Acquisition WORLDVIEW03_VNIR\n",
      "104001001354BC00 2015-11-18 Acquisition WORLDVIEW03_VNIR\n",
      "10400100147B0D00 2015-11-16 Acquisition WORLDVIEW03_VNIR\n",
      "1030010042B50E00 2015-05-24 Acquisition WORLDVIEW02\n",
      "1030010072853700 2017-10-26 Acquisition WORLDVIEW02\n",
      "10300100458A5200 2015-07-17 Acquisition WORLDVIEW02\n",
      "1030010043B7B200 2015-05-24 Acquisition WORLDVIEW02\n",
      "1030010074BB8A00 2017-10-26 Acquisition WORLDVIEW02\n",
      "1030010004484300 2010-05-11 Acquisition WORLDVIEW02\n",
      "10300100056EE100 2010-05-22 Acquisition WORLDVIEW02\n",
      "103001000A5B4B00 2011-05-08 WV02 WORLDVIEW02\n",
      "103001000A125C00 2011-04-22 Acquisition WORLDVIEW02\n",
      "103001000A786E00 2011-04-30 Acquisition WORLDVIEW02\n",
      "103001000A11A600 2011-04-22 Acquisition WORLDVIEW02\n",
      "103001000A7B3D00 2011-04-27 Acquisition WORLDVIEW02\n",
      "103001001B089200 2012-08-09 Acquisition WORLDVIEW02\n",
      "103001001AA01200 2012-08-08 Acquisition WORLDVIEW02\n",
      "24\n",
      "\n",
      "searching for point  2\n",
      "104001000230AB00 2014-10-09 Acquisition WORLDVIEW03_VNIR\n",
      "103001007885A400 2018-02-20 Acquisition WORLDVIEW02\n",
      "1030010079A55E00 2018-02-20 Acquisition WORLDVIEW02\n",
      "103001007D0A7D00 2018-05-22 IDAHOImage WORLDVIEW02\n",
      "103001007F46C300 2018-05-25 Acquisition WORLDVIEW02\n",
      "1040010034CFD700 2017-10-10 Acquisition WORLDVIEW03_VNIR\n",
      "1040010034272300 2017-10-16 Acquisition WORLDVIEW03_VNIR\n",
      "104001003218D600 2017-10-17 Acquisition WORLDVIEW03_VNIR\n",
      "10400100346C7200 2017-10-10 Acquisition WORLDVIEW03_VNIR\n",
      "1040010035C30C00 2017-10-17 Acquisition WORLDVIEW03_VNIR\n",
      "104001001354BC00 2015-11-18 Acquisition WORLDVIEW03_VNIR\n",
      "104001001324C900 2015-11-18 Acquisition WORLDVIEW03_VNIR\n",
      "10300100606A7900 2016-11-17 Acquisition WORLDVIEW02\n",
      "103001004E44B200 2015-11-17 Acquisition WORLDVIEW02\n",
      "103001004BD4C000 2015-11-17 Acquisition WORLDVIEW02\n",
      "10300100731B9400 2017-10-15 Acquisition WORLDVIEW02\n",
      "1030010072853700 2017-10-26 Acquisition WORLDVIEW02\n",
      "1030010072755A00 2017-10-15 Acquisition WORLDVIEW02\n",
      "1030010074BB8A00 2017-10-26 Acquisition WORLDVIEW02\n",
      "1030010004484300 2010-05-11 Acquisition WORLDVIEW02\n",
      "103001000A125C00 2011-04-22 Acquisition WORLDVIEW02\n",
      "103001001B089200 2012-08-09 Acquisition WORLDVIEW02\n",
      "103001001AB5F300 2012-08-09 Acquisition WORLDVIEW02\n",
      "1030010019B8C900 2012-06-17 Acquisition WORLDVIEW02\n",
      "103001001AA01200 2012-08-08 Acquisition WORLDVIEW02\n",
      "25\n",
      "\n"
     ]
    }
   ],
   "source": [
    "# search for other image\n",
    "from shapely.geometry import box\n",
    "\n",
    "# query = 'item_type:QB OR item_type:GE01'\n",
    "# query = 'item_type:GE01'\n",
    "# query = 'item_type:QB02'\n",
    "query = 'item_type:WV03_VNIR OR item_type:WV02 OR item_type:QB OR item_type:GE01'\n",
    "query = 'item_type:WV03_VNIR OR item_type:WV02'\n",
    "\n",
    "for i,pt in enumerate(pts['geometry']):\n",
    "    \n",
    "    print('searching for point ', i)\n",
    "    this_bbox = pt.buffer(0.003).bounds\n",
    "    aoi = box(*this_bbox).wkt\n",
    "    recs = gbdx.vectors.query(aoi, query, count=100)\n",
    "    #print(len(recs))\n",
    "\n",
    "    cat_ids=[]\n",
    "    for r in recs:\n",
    "        \n",
    "        props = r['properties']\n",
    "        if not props['attributes']['catalogID'] in cat_ids:\n",
    "            cat_ids.append(props['attributes']['catalogID'])\n",
    "            print(props['attributes']['catalogID'], \n",
    "                  props['item_date'][0:10], \n",
    "                  props['item_type'][1], \n",
    "                  props['attributes']['platformName'])\n",
    "\n",
    "    print(len(cat_ids))\n",
    "    print('')           \n"
   ]
  },
  {
   "cell_type": "code",
   "execution_count": null,
   "metadata": {
    "scrolled": false
   },
   "outputs": [],
   "source": []
  },
  {
   "cell_type": "code",
   "execution_count": 6,
   "metadata": {},
   "outputs": [],
   "source": [
    "poly = loads(aoi)\n",
    "df = pd.DataFrame({'geometry': poly}, index=[0])\n",
    "\n",
    "              \n"
   ]
  },
  {
   "cell_type": "code",
   "execution_count": 7,
   "metadata": {},
   "outputs": [],
   "source": [
    "gdf = gpd.GeoDataFrame(df)\n",
    "gdf.crs = {'init': 'epsg:4326', 'no_defs': True}\n",
    "temp = gdf.to_crs(epsg=32607)"
   ]
  },
  {
   "cell_type": "code",
   "execution_count": 8,
   "metadata": {},
   "outputs": [
    {
     "data": {
      "text/plain": [
       "(178695.59846898908,\n",
       " (265235.5060103524, 7386862.270716549, 265558.08320051746, 7387551.704168542))"
      ]
     },
     "execution_count": 8,
     "metadata": {},
     "output_type": "execute_result"
    }
   ],
   "source": [
    "temp['geometry'][0].area,temp['geometry'][0].bounds"
   ]
  },
  {
   "cell_type": "code",
   "execution_count": 9,
   "metadata": {},
   "outputs": [
    {
     "data": {
      "text/plain": [
       "(689.4334519933909, 322.5771901650587)"
      ]
     },
     "execution_count": 9,
     "metadata": {},
     "output_type": "execute_result"
    }
   ],
   "source": [
    "bnds = temp['geometry'][0].bounds\n",
    "bnds[3] - bnds[1], bnds[2] - bnds[0]"
   ]
  },
  {
   "cell_type": "markdown",
   "metadata": {},
   "source": [
    "## search the catalog and view as data frames"
   ]
  },
  {
   "cell_type": "code",
   "execution_count": 10,
   "metadata": {
    "scrolled": true
   },
   "outputs": [
    {
     "name": "stdout",
     "output_type": "stream",
     "text": [
      "searching for point  0\n",
      "31\n",
      "searching for point  1\n",
      "76\n",
      "searching for point  2\n",
      "49\n"
     ]
    }
   ],
   "source": [
    "def flatten_dict(d):\n",
    "    def expand(key, value):\n",
    "        if isinstance(value, dict):\n",
    "            return [ (key + '.' + k, v) for k, v in flatten_dict(value).items() ]\n",
    "        else:\n",
    "            return [ (key, value) ]\n",
    "\n",
    "    items = [ item for k, v in d.items() for item in expand(k, v) ]\n",
    "\n",
    "    return dict(items)\n",
    "\n",
    "\n",
    "# search for other image\n",
    "from shapely.geometry import box\n",
    "\n",
    "# query = 'item_type:QB OR item_type:GE01'\n",
    "# query = 'item_type:GE01'\n",
    "# query = 'item_type:QB02'\n",
    "query = 'item_type:WV03_VNIR OR item_type:WV02 OR item_type:QB OR item_type:GE01'\n",
    "\n",
    "pt_dfs = []\n",
    "for i,pt in enumerate(pts['geometry']):\n",
    "    \n",
    "    print('searching for point ', i)\n",
    "    this_bbox = pt.buffer(0.003).bounds\n",
    "    aoi = box(*this_bbox).wkt\n",
    "    recs = gbdx.vectors.query(aoi, query, count=100)\n",
    "    print(len(recs))\n",
    "    pt_dfs.append(pd.DataFrame([flatten_dict(r) for r in recs]))\n"
   ]
  },
  {
   "cell_type": "code",
   "execution_count": 11,
   "metadata": {},
   "outputs": [
    {
     "name": "stdout",
     "output_type": "stream",
     "text": [
      "<pandas.core.groupby.DataFrameGroupBy object at 0x00000227F3A31CC0>\n"
     ]
    },
    {
     "ename": "TypeError",
     "evalue": "unhashable type: 'list'",
     "output_type": "error",
     "traceback": [
      "\u001b[1;31m---------------------------------------------------------------------------\u001b[0m",
      "\u001b[1;31mTypeError\u001b[0m                                 Traceback (most recent call last)",
      "\u001b[1;32m<ipython-input-11-ae224f702779>\u001b[0m in \u001b[0;36m<module>\u001b[1;34m()\u001b[0m\n\u001b[0;32m      4\u001b[0m \u001b[1;33m\u001b[0m\u001b[0m\n\u001b[0;32m      5\u001b[0m \u001b[0mprint\u001b[0m\u001b[1;33m(\u001b[0m\u001b[0mpt0_sensors\u001b[0m\u001b[1;33m)\u001b[0m\u001b[1;33m\u001b[0m\u001b[0m\n\u001b[1;32m----> 6\u001b[1;33m \u001b[1;32mfor\u001b[0m \u001b[0mname\u001b[0m\u001b[1;33m,\u001b[0m \u001b[0mgroup\u001b[0m \u001b[1;32min\u001b[0m \u001b[0mpt0_sensors\u001b[0m\u001b[1;33m:\u001b[0m\u001b[1;33m\u001b[0m\u001b[0m\n\u001b[0m\u001b[0;32m      7\u001b[0m     \u001b[1;32mpass\u001b[0m\u001b[1;33m\u001b[0m\u001b[0m\n",
      "\u001b[1;32mC:\\software\\Anaconda3\\envs\\eapy_gbdx\\lib\\site-packages\\pandas\\core\\groupby.py\u001b[0m in \u001b[0;36mget_iterator\u001b[1;34m(self, data, axis)\u001b[0m\n\u001b[0;32m   1920\u001b[0m         \u001b[1;32mfor\u001b[0m \u001b[0meach\u001b[0m \u001b[0mgroup\u001b[0m\u001b[1;33m\u001b[0m\u001b[0m\n\u001b[0;32m   1921\u001b[0m         \"\"\"\n\u001b[1;32m-> 1922\u001b[1;33m         \u001b[0msplitter\u001b[0m \u001b[1;33m=\u001b[0m \u001b[0mself\u001b[0m\u001b[1;33m.\u001b[0m\u001b[0m_get_splitter\u001b[0m\u001b[1;33m(\u001b[0m\u001b[0mdata\u001b[0m\u001b[1;33m,\u001b[0m \u001b[0maxis\u001b[0m\u001b[1;33m=\u001b[0m\u001b[0maxis\u001b[0m\u001b[1;33m)\u001b[0m\u001b[1;33m\u001b[0m\u001b[0m\n\u001b[0m\u001b[0;32m   1923\u001b[0m         \u001b[0mkeys\u001b[0m \u001b[1;33m=\u001b[0m \u001b[0mself\u001b[0m\u001b[1;33m.\u001b[0m\u001b[0m_get_group_keys\u001b[0m\u001b[1;33m(\u001b[0m\u001b[1;33m)\u001b[0m\u001b[1;33m\u001b[0m\u001b[0m\n\u001b[0;32m   1924\u001b[0m         \u001b[1;32mfor\u001b[0m \u001b[0mkey\u001b[0m\u001b[1;33m,\u001b[0m \u001b[1;33m(\u001b[0m\u001b[0mi\u001b[0m\u001b[1;33m,\u001b[0m \u001b[0mgroup\u001b[0m\u001b[1;33m)\u001b[0m \u001b[1;32min\u001b[0m \u001b[0mzip\u001b[0m\u001b[1;33m(\u001b[0m\u001b[0mkeys\u001b[0m\u001b[1;33m,\u001b[0m \u001b[0msplitter\u001b[0m\u001b[1;33m)\u001b[0m\u001b[1;33m:\u001b[0m\u001b[1;33m\u001b[0m\u001b[0m\n",
      "\u001b[1;32mC:\\software\\Anaconda3\\envs\\eapy_gbdx\\lib\\site-packages\\pandas\\core\\groupby.py\u001b[0m in \u001b[0;36m_get_splitter\u001b[1;34m(self, data, axis)\u001b[0m\n\u001b[0;32m   1926\u001b[0m \u001b[1;33m\u001b[0m\u001b[0m\n\u001b[0;32m   1927\u001b[0m     \u001b[1;32mdef\u001b[0m \u001b[0m_get_splitter\u001b[0m\u001b[1;33m(\u001b[0m\u001b[0mself\u001b[0m\u001b[1;33m,\u001b[0m \u001b[0mdata\u001b[0m\u001b[1;33m,\u001b[0m \u001b[0maxis\u001b[0m\u001b[1;33m=\u001b[0m\u001b[1;36m0\u001b[0m\u001b[1;33m)\u001b[0m\u001b[1;33m:\u001b[0m\u001b[1;33m\u001b[0m\u001b[0m\n\u001b[1;32m-> 1928\u001b[1;33m         \u001b[0mcomp_ids\u001b[0m\u001b[1;33m,\u001b[0m \u001b[0m_\u001b[0m\u001b[1;33m,\u001b[0m \u001b[0mngroups\u001b[0m \u001b[1;33m=\u001b[0m \u001b[0mself\u001b[0m\u001b[1;33m.\u001b[0m\u001b[0mgroup_info\u001b[0m\u001b[1;33m\u001b[0m\u001b[0m\n\u001b[0m\u001b[0;32m   1929\u001b[0m         \u001b[1;32mreturn\u001b[0m \u001b[0mget_splitter\u001b[0m\u001b[1;33m(\u001b[0m\u001b[0mdata\u001b[0m\u001b[1;33m,\u001b[0m \u001b[0mcomp_ids\u001b[0m\u001b[1;33m,\u001b[0m \u001b[0mngroups\u001b[0m\u001b[1;33m,\u001b[0m \u001b[0maxis\u001b[0m\u001b[1;33m=\u001b[0m\u001b[0maxis\u001b[0m\u001b[1;33m)\u001b[0m\u001b[1;33m\u001b[0m\u001b[0m\n\u001b[0;32m   1930\u001b[0m \u001b[1;33m\u001b[0m\u001b[0m\n",
      "\u001b[1;32mpandas/_libs/properties.pyx\u001b[0m in \u001b[0;36mpandas._libs.properties.cache_readonly.__get__\u001b[1;34m()\u001b[0m\n",
      "\u001b[1;32mC:\\software\\Anaconda3\\envs\\eapy_gbdx\\lib\\site-packages\\pandas\\core\\groupby.py\u001b[0m in \u001b[0;36mgroup_info\u001b[1;34m(self)\u001b[0m\n\u001b[0;32m   2038\u001b[0m     \u001b[1;33m@\u001b[0m\u001b[0mcache_readonly\u001b[0m\u001b[1;33m\u001b[0m\u001b[0m\n\u001b[0;32m   2039\u001b[0m     \u001b[1;32mdef\u001b[0m \u001b[0mgroup_info\u001b[0m\u001b[1;33m(\u001b[0m\u001b[0mself\u001b[0m\u001b[1;33m)\u001b[0m\u001b[1;33m:\u001b[0m\u001b[1;33m\u001b[0m\u001b[0m\n\u001b[1;32m-> 2040\u001b[1;33m         \u001b[0mcomp_ids\u001b[0m\u001b[1;33m,\u001b[0m \u001b[0mobs_group_ids\u001b[0m \u001b[1;33m=\u001b[0m \u001b[0mself\u001b[0m\u001b[1;33m.\u001b[0m\u001b[0m_get_compressed_labels\u001b[0m\u001b[1;33m(\u001b[0m\u001b[1;33m)\u001b[0m\u001b[1;33m\u001b[0m\u001b[0m\n\u001b[0m\u001b[0;32m   2041\u001b[0m \u001b[1;33m\u001b[0m\u001b[0m\n\u001b[0;32m   2042\u001b[0m         \u001b[0mngroups\u001b[0m \u001b[1;33m=\u001b[0m \u001b[0mlen\u001b[0m\u001b[1;33m(\u001b[0m\u001b[0mobs_group_ids\u001b[0m\u001b[1;33m)\u001b[0m\u001b[1;33m\u001b[0m\u001b[0m\n",
      "\u001b[1;32mC:\\software\\Anaconda3\\envs\\eapy_gbdx\\lib\\site-packages\\pandas\\core\\groupby.py\u001b[0m in \u001b[0;36m_get_compressed_labels\u001b[1;34m(self)\u001b[0m\n\u001b[0;32m   2054\u001b[0m \u001b[1;33m\u001b[0m\u001b[0m\n\u001b[0;32m   2055\u001b[0m     \u001b[1;32mdef\u001b[0m \u001b[0m_get_compressed_labels\u001b[0m\u001b[1;33m(\u001b[0m\u001b[0mself\u001b[0m\u001b[1;33m)\u001b[0m\u001b[1;33m:\u001b[0m\u001b[1;33m\u001b[0m\u001b[0m\n\u001b[1;32m-> 2056\u001b[1;33m         \u001b[0mall_labels\u001b[0m \u001b[1;33m=\u001b[0m \u001b[1;33m[\u001b[0m\u001b[0mping\u001b[0m\u001b[1;33m.\u001b[0m\u001b[0mlabels\u001b[0m \u001b[1;32mfor\u001b[0m \u001b[0mping\u001b[0m \u001b[1;32min\u001b[0m \u001b[0mself\u001b[0m\u001b[1;33m.\u001b[0m\u001b[0mgroupings\u001b[0m\u001b[1;33m]\u001b[0m\u001b[1;33m\u001b[0m\u001b[0m\n\u001b[0m\u001b[0;32m   2057\u001b[0m         \u001b[1;32mif\u001b[0m \u001b[0mlen\u001b[0m\u001b[1;33m(\u001b[0m\u001b[0mall_labels\u001b[0m\u001b[1;33m)\u001b[0m \u001b[1;33m>\u001b[0m \u001b[1;36m1\u001b[0m\u001b[1;33m:\u001b[0m\u001b[1;33m\u001b[0m\u001b[0m\n\u001b[0;32m   2058\u001b[0m             group_index = get_group_index(all_labels, self.shape,\n",
      "\u001b[1;32mC:\\software\\Anaconda3\\envs\\eapy_gbdx\\lib\\site-packages\\pandas\\core\\groupby.py\u001b[0m in \u001b[0;36m<listcomp>\u001b[1;34m(.0)\u001b[0m\n\u001b[0;32m   2054\u001b[0m \u001b[1;33m\u001b[0m\u001b[0m\n\u001b[0;32m   2055\u001b[0m     \u001b[1;32mdef\u001b[0m \u001b[0m_get_compressed_labels\u001b[0m\u001b[1;33m(\u001b[0m\u001b[0mself\u001b[0m\u001b[1;33m)\u001b[0m\u001b[1;33m:\u001b[0m\u001b[1;33m\u001b[0m\u001b[0m\n\u001b[1;32m-> 2056\u001b[1;33m         \u001b[0mall_labels\u001b[0m \u001b[1;33m=\u001b[0m \u001b[1;33m[\u001b[0m\u001b[0mping\u001b[0m\u001b[1;33m.\u001b[0m\u001b[0mlabels\u001b[0m \u001b[1;32mfor\u001b[0m \u001b[0mping\u001b[0m \u001b[1;32min\u001b[0m \u001b[0mself\u001b[0m\u001b[1;33m.\u001b[0m\u001b[0mgroupings\u001b[0m\u001b[1;33m]\u001b[0m\u001b[1;33m\u001b[0m\u001b[0m\n\u001b[0m\u001b[0;32m   2057\u001b[0m         \u001b[1;32mif\u001b[0m \u001b[0mlen\u001b[0m\u001b[1;33m(\u001b[0m\u001b[0mall_labels\u001b[0m\u001b[1;33m)\u001b[0m \u001b[1;33m>\u001b[0m \u001b[1;36m1\u001b[0m\u001b[1;33m:\u001b[0m\u001b[1;33m\u001b[0m\u001b[0m\n\u001b[0;32m   2058\u001b[0m             group_index = get_group_index(all_labels, self.shape,\n",
      "\u001b[1;32mC:\\software\\Anaconda3\\envs\\eapy_gbdx\\lib\\site-packages\\pandas\\core\\groupby.py\u001b[0m in \u001b[0;36mlabels\u001b[1;34m(self)\u001b[0m\n\u001b[0;32m   2748\u001b[0m     \u001b[1;32mdef\u001b[0m \u001b[0mlabels\u001b[0m\u001b[1;33m(\u001b[0m\u001b[0mself\u001b[0m\u001b[1;33m)\u001b[0m\u001b[1;33m:\u001b[0m\u001b[1;33m\u001b[0m\u001b[0m\n\u001b[0;32m   2749\u001b[0m         \u001b[1;32mif\u001b[0m \u001b[0mself\u001b[0m\u001b[1;33m.\u001b[0m\u001b[0m_labels\u001b[0m \u001b[1;32mis\u001b[0m \u001b[1;32mNone\u001b[0m\u001b[1;33m:\u001b[0m\u001b[1;33m\u001b[0m\u001b[0m\n\u001b[1;32m-> 2750\u001b[1;33m             \u001b[0mself\u001b[0m\u001b[1;33m.\u001b[0m\u001b[0m_make_labels\u001b[0m\u001b[1;33m(\u001b[0m\u001b[1;33m)\u001b[0m\u001b[1;33m\u001b[0m\u001b[0m\n\u001b[0m\u001b[0;32m   2751\u001b[0m         \u001b[1;32mreturn\u001b[0m \u001b[0mself\u001b[0m\u001b[1;33m.\u001b[0m\u001b[0m_labels\u001b[0m\u001b[1;33m\u001b[0m\u001b[0m\n\u001b[0;32m   2752\u001b[0m \u001b[1;33m\u001b[0m\u001b[0m\n",
      "\u001b[1;32mC:\\software\\Anaconda3\\envs\\eapy_gbdx\\lib\\site-packages\\pandas\\core\\groupby.py\u001b[0m in \u001b[0;36m_make_labels\u001b[1;34m(self)\u001b[0m\n\u001b[0;32m   2765\u001b[0m             \u001b[1;32melse\u001b[0m\u001b[1;33m:\u001b[0m\u001b[1;33m\u001b[0m\u001b[0m\n\u001b[0;32m   2766\u001b[0m                 labels, uniques = algorithms.factorize(\n\u001b[1;32m-> 2767\u001b[1;33m                     self.grouper, sort=self.sort)\n\u001b[0m\u001b[0;32m   2768\u001b[0m                 \u001b[0muniques\u001b[0m \u001b[1;33m=\u001b[0m \u001b[0mIndex\u001b[0m\u001b[1;33m(\u001b[0m\u001b[0muniques\u001b[0m\u001b[1;33m,\u001b[0m \u001b[0mname\u001b[0m\u001b[1;33m=\u001b[0m\u001b[0mself\u001b[0m\u001b[1;33m.\u001b[0m\u001b[0mname\u001b[0m\u001b[1;33m)\u001b[0m\u001b[1;33m\u001b[0m\u001b[0m\n\u001b[0;32m   2769\u001b[0m             \u001b[0mself\u001b[0m\u001b[1;33m.\u001b[0m\u001b[0m_labels\u001b[0m \u001b[1;33m=\u001b[0m \u001b[0mlabels\u001b[0m\u001b[1;33m\u001b[0m\u001b[0m\n",
      "\u001b[1;32mC:\\software\\Anaconda3\\envs\\eapy_gbdx\\lib\\site-packages\\pandas\\core\\algorithms.py\u001b[0m in \u001b[0;36mfactorize\u001b[1;34m(values, sort, order, na_sentinel, size_hint)\u001b[0m\n\u001b[0;32m    469\u001b[0m     \u001b[0muniques\u001b[0m \u001b[1;33m=\u001b[0m \u001b[0mvec_klass\u001b[0m\u001b[1;33m(\u001b[0m\u001b[1;33m)\u001b[0m\u001b[1;33m\u001b[0m\u001b[0m\n\u001b[0;32m    470\u001b[0m     \u001b[0mcheck_nulls\u001b[0m \u001b[1;33m=\u001b[0m \u001b[1;32mnot\u001b[0m \u001b[0mis_integer_dtype\u001b[0m\u001b[1;33m(\u001b[0m\u001b[0moriginal\u001b[0m\u001b[1;33m)\u001b[0m\u001b[1;33m\u001b[0m\u001b[0m\n\u001b[1;32m--> 471\u001b[1;33m     \u001b[0mlabels\u001b[0m \u001b[1;33m=\u001b[0m \u001b[0mtable\u001b[0m\u001b[1;33m.\u001b[0m\u001b[0mget_labels\u001b[0m\u001b[1;33m(\u001b[0m\u001b[0mvalues\u001b[0m\u001b[1;33m,\u001b[0m \u001b[0muniques\u001b[0m\u001b[1;33m,\u001b[0m \u001b[1;36m0\u001b[0m\u001b[1;33m,\u001b[0m \u001b[0mna_sentinel\u001b[0m\u001b[1;33m,\u001b[0m \u001b[0mcheck_nulls\u001b[0m\u001b[1;33m)\u001b[0m\u001b[1;33m\u001b[0m\u001b[0m\n\u001b[0m\u001b[0;32m    472\u001b[0m \u001b[1;33m\u001b[0m\u001b[0m\n\u001b[0;32m    473\u001b[0m     \u001b[0mlabels\u001b[0m \u001b[1;33m=\u001b[0m \u001b[0m_ensure_platform_int\u001b[0m\u001b[1;33m(\u001b[0m\u001b[0mlabels\u001b[0m\u001b[1;33m)\u001b[0m\u001b[1;33m\u001b[0m\u001b[0m\n",
      "\u001b[1;32mpandas/_libs/hashtable_class_helper.pxi\u001b[0m in \u001b[0;36mpandas._libs.hashtable.PyObjectHashTable.get_labels\u001b[1;34m()\u001b[0m\n",
      "\u001b[1;31mTypeError\u001b[0m: unhashable type: 'list'"
     ]
    }
   ],
   "source": [
    "item_type = 'properties.item_type'\n",
    "pt0_df = pt_dfs[0]\n",
    "pt0_sensors = pt0_df.groupby(item_type)\n",
    "\n",
    "print(pt0_sensors)\n",
    "for name, group in pt0_sensors:\n",
    "    pass"
   ]
  },
  {
   "cell_type": "code",
   "execution_count": null,
   "metadata": {},
   "outputs": [],
   "source": [
    "pt0_df[item_type][0][-1]"
   ]
  },
  {
   "cell_type": "code",
   "execution_count": null,
   "metadata": {},
   "outputs": [],
   "source": []
  }
 ],
 "metadata": {
  "kernelspec": {
   "display_name": "Python [conda env:eapy_gbdx]",
   "language": "python",
   "name": "conda-env-eapy_gbdx-py"
  },
  "language_info": {
   "codemirror_mode": {
    "name": "ipython",
    "version": 3
   },
   "file_extension": ".py",
   "mimetype": "text/x-python",
   "name": "python",
   "nbconvert_exporter": "python",
   "pygments_lexer": "ipython3",
   "version": "3.6.4"
  }
 },
 "nbformat": 4,
 "nbformat_minor": 2
}
